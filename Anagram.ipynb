{
 "cells": [
  {
   "cell_type": "markdown",
   "metadata": {},
   "source": [
    "#Check whether Given String is Anagram or not."
   ]
  },
  {
   "cell_type": "code",
   "execution_count": 1,
   "metadata": {},
   "outputs": [
    {
     "name": "stdout",
     "output_type": "stream",
     "text": [
      "Enter a String :earth\n",
      "Enter a String:heart\n",
      "Anagram\n"
     ]
    }
   ],
   "source": [
    "def Anagram(input1,input2):\n",
    "    sorted_1 = sorted(input1)\n",
    "    sorted_2 = sorted(input2)\n",
    "    if len(input1) == len(input2):\n",
    "        if sorted_1 == sorted_2:\n",
    "            print(\"Anagram\")\n",
    "        else :\n",
    "            print(\"Not a Anagram\")\n",
    "    else :\n",
    "        print(\"Not a Anagram\")\n",
    "        \n",
    "        \n",
    "inpt1 = input('Enter a String :')\n",
    "inpt2 = input('Enter a String:')\n",
    "Anagram(inpt1,inpt2)"
   ]
  }
 ],
 "metadata": {
  "kernelspec": {
   "display_name": "Python 3",
   "language": "python",
   "name": "python3"
  },
  "language_info": {
   "codemirror_mode": {
    "name": "ipython",
    "version": 3
   },
   "file_extension": ".py",
   "mimetype": "text/x-python",
   "name": "python",
   "nbconvert_exporter": "python",
   "pygments_lexer": "ipython3",
   "version": "3.8.5"
  }
 },
 "nbformat": 4,
 "nbformat_minor": 4
}
